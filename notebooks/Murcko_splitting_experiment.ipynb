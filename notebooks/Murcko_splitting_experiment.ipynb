{
 "cells": [
  {
   "cell_type": "markdown",
   "id": "0",
   "metadata": {},
   "source": [
    "## Literature\n",
    "\n",
    "\n",
    "https://greglandrum.github.io/rdkit-blog/posts/2024-05-31-scaffold-splits-and-murcko-scaffolds1.html\n",
    "\n",
    "https://www.oloren.ai/blog/scaff-split\n",
    "\n",
    "https://practicalcheminformatics.blogspot.com/2023/06/getting-real-with-molecular-property.html"
   ]
  },
  {
   "cell_type": "code",
   "execution_count": null,
   "id": "1",
   "metadata": {},
   "outputs": [],
   "source": [
    "import io\n",
    "\n",
    "import matplotlib.pyplot as plt\n",
    "import numpy as np\n",
    "import pandas as pd\n",
    "from PIL import Image\n",
    "from rdkit import Chem\n",
    "from rdkit.Chem import Draw, rdFMCS\n",
    "from rdkit.Chem.Draw import IPythonConsole\n",
    "\n",
    "# Set up RDKit drawing options\n",
    "Draw.SetComicMode(IPythonConsole.drawOptions)\n",
    "\n",
    "# Set up matplotlib\n",
    "plt.style.use(\"tableau-colorblind10\")\n",
    "plt.rcParams[\"font.size\"] = \"16\""
   ]
  },
  {
   "cell_type": "code",
   "execution_count": null,
   "id": "2",
   "metadata": {},
   "outputs": [],
   "source": [
    "# Read the parquet file\n",
    "df = pd.read_parquet(\"../data/raw/enveda_library_subset.parquet\")"
   ]
  },
  {
   "cell_type": "code",
   "execution_count": null,
   "id": "3",
   "metadata": {},
   "outputs": [],
   "source": [
    "# Convert SMILES to RDKit molecules\n",
    "mols = [Chem.MolFromSmiles(smi) for smi in df[\"smiles\"] if isinstance(smi, str)]"
   ]
  },
  {
   "cell_type": "code",
   "execution_count": null,
   "id": "4",
   "metadata": {},
   "outputs": [],
   "source": [
    "# Compute Murcko scaffolds with error handling\n",
    "scaffs = []\n",
    "for m in mols:\n",
    "    if m is not None:\n",
    "        try:\n",
    "            scaff = Chem.MurckoDecompose(m)\n",
    "            # Try to sanitize, but if it fails, try to at least get a valid mol\n",
    "            try:\n",
    "                Chem.SanitizeMol(scaff)\n",
    "            except:\n",
    "                Chem.GetSymmSSSR(scaff)\n",
    "            scaffs.append(scaff)\n",
    "        except Exception as e:\n",
    "            print(f\"Error processing molecule: {Chem.MolToSmiles(m)}\")\n",
    "            print(f\"Error message: {str(e)}\")\n",
    "\n",
    "scaff_smis = [Chem.MolToSmiles(x) for x in scaffs if x is not None]\n",
    "unique_scaffolds = set(scaff_smis)\n",
    "\n",
    "print(f\"Number of unique scaffolds: {len(unique_scaffolds)}\")"
   ]
  },
  {
   "cell_type": "code",
   "execution_count": null,
   "id": "5",
   "metadata": {},
   "outputs": [],
   "source": [
    "# Visualize some scaffolds\n",
    "num_to_visualize = min(10, len(scaffs))\n",
    "valid_scaffs = [s for s in scaffs if s is not None][:num_to_visualize]\n",
    "img = Draw.MolsToGridImage(\n",
    "    valid_scaffs,\n",
    "    molsPerRow=5,\n",
    "    subImgSize=(200, 200),\n",
    "    legends=[f\"Scaffold {i+1}\" for i in range(len(valid_scaffs))],\n",
    "    returnPNG=False,\n",
    ")\n",
    "\n",
    "# Save the image directly\n",
    "img.save(\"scaffold_visualization.png\")\n",
    "\n",
    "# Count scaffold frequencies\n",
    "scaffold_counts = pd.Series(scaff_smis).value_counts()\n",
    "\n",
    "# Plot scaffold distribution\n",
    "plt.figure(figsize=(12, 6))\n",
    "scaffold_counts.head(20).plot(kind=\"bar\")\n",
    "plt.title(\"Top 20 Scaffold Frequencies\")\n",
    "plt.xlabel(\"Scaffold SMILES\")\n",
    "plt.ylabel(\"Frequency\")\n",
    "plt.xticks(rotation=90)\n",
    "# plt.tight_layout()\n",
    "plt.savefig(\"scaffold_distribution.png\")\n",
    "\n",
    "print(\"Scaffold visualization saved as 'scaffold_visualization.png'\")\n",
    "print(\"Scaffold distribution plot saved as 'scaffold_distribution.png'\")"
   ]
  },
  {
   "cell_type": "code",
   "execution_count": null,
   "id": "6",
   "metadata": {},
   "outputs": [],
   "source": []
  }
 ],
 "metadata": {
  "kernelspec": {
   "display_name": "Python 3 (ipykernel)",
   "language": "python",
   "name": "python3"
  },
  "language_info": {
   "codemirror_mode": {
    "name": "ipython",
    "version": 3
   },
   "file_extension": ".py",
   "mimetype": "text/x-python",
   "name": "python",
   "nbconvert_exporter": "python",
   "pygments_lexer": "ipython3",
   "version": "3.11.10"
  }
 },
 "nbformat": 4,
 "nbformat_minor": 5
}
